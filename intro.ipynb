{
 "cells": [
  {
   "cell_type": "markdown",
   "id": "3b4dff02-90d5-4d62-95fc-5c372af4255c",
   "metadata": {},
   "source": [
    "# Apache Arrow\n",
    "\n",
    "Apache Arrow was born with the idea to define a set of standards for data representation and interchange between languages and systems to avoid costs of data serialization/deserialization and in order to avoid reinventing the wheel on each of those systems and languages.\n",
    "\n",
    "The initial problem:\n",
    "\n",
    "Each system / language requires their own format definitions, implementation of common algorithms, etcetera. In our heterogeneous environments we often have to move data from one system/language to accommodate our workflows that meant copy&convert the data between them, which is quite costly.\n",
    "\n",
    "![image info](./diagrams/without_arrow.png)\n",
    "\n",
    "With the Arrow Columnar format Specification:\n",
    "\n",
    "![image info](./diagrams/with_arrow.png)\n",
    "\n",
    "Apart from the initial vision, Arrow has grown to also develop a multi-language collection of libraries for solving systems problems related to in-memory analytical data processing. This includes such topics as:\n",
    "\n",
    "- Zero-copy shared memory and RPC-based data movement\n",
    "- Reading and writing file formats (like CSV, Apache ORC, and Apache Parquet)\n",
    "- In-memory analytics and query processing\n",
    " "
   ]
  },
  {
   "cell_type": "markdown",
   "id": "949ac72b-577b-4fd7-92e6-fa61907202cf",
   "metadata": {},
   "source": [
    "## Language implementations and PyArrow\n",
    "\n",
    "The Apache Arrow Columnar format has been implemented in multitude of languages:\n",
    "\n",
    "- C++\n",
    "- Python\n",
    "- C#\n",
    "- Java\n",
    "- Go\n",
    "- R\n",
    "- Ruby\n",
    "- Rust\n",
    "- Matlab\n",
    "- JavaScript\n",
    "- Julia\n",
    "\n",
    "The implementation for Python is called PyArrow and can be found on PyPI [here](https://pypi.org/project/pyarrow/).\n",
    "\n",
    "PyArrow provides a Python API for functionality provided by the Arrow C++ libraries, along with tools for Arrow integration and interoperability with pandas, NumPy, and other software in the Python ecosystem.\n",
    "\n",
    "It is written in Python, Cython and C++."
   ]
  },
  {
   "cell_type": "markdown",
   "id": "bb940025-b136-4253-b8ce-f62c9153efd3",
   "metadata": {},
   "source": [
    "## NanoArrow\n",
    "\n",
    "The Arrow libraries are growing with a lot of functionality and nanoarrow was born to solve the problem where linking to the Arrow implementation is difficult or impossible\n",
    "\n",
    "The [NanoArrow library](https://github.com/apache/arrow-nanoarrow) is a set of helper functions to interpret and generate [Arrow C Data Interface](https://arrow.apache.org/docs/format/CDataInterface.html) and [Arrow C Stream Interface](https://arrow.apache.org/docs/format/CStreamInterface.html) structures. The library is in active development.\n",
    "\n",
    "The NanoArrow Python bindings are intended to support clients that wish to produce or interpret Arrow C Data and/or Arrow C Stream structures in Python, without a dependency on the larger PyArrow package."
   ]
  }
 ],
 "metadata": {
  "kernelspec": {
   "display_name": "Python 3 (ipykernel)",
   "language": "python",
   "name": "python3"
  },
  "language_info": {
   "codemirror_mode": {
    "name": "ipython",
    "version": 3
   },
   "file_extension": ".py",
   "mimetype": "text/x-python",
   "name": "python",
   "nbconvert_exporter": "python",
   "pygments_lexer": "ipython3",
   "version": "3.12.2"
  }
 },
 "nbformat": 4,
 "nbformat_minor": 5
}

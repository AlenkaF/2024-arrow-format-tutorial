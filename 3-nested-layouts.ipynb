{
 "cells": [
  {
   "cell_type": "code",
   "execution_count": null,
   "id": "07876c11-952d-4bed-b265-b00723acf2e3",
   "metadata": {},
   "outputs": [],
   "source": []
  },
  {
   "cell_type": "markdown",
   "id": "e647f9ee-c146-4fe5-b524-4451b3f8ced1",
   "metadata": {},
   "source": [
    "# Nested types\n",
    "\n",
    "* List, List View\n",
    "* Struct\n",
    "* Map\n",
    "* Union\n",
    "* Dictionary encoded\n",
    "\n",
    "In nested types we introduce the concept of **parent** and **child arrays**. They express relationships between physical value arrays in a nested type structure.\n",
    "\n",
    "Nested data type structure depends on one or more other child data types.\n",
    "For instance, List is a nested type (parent) that has one child."
   ]
  },
  {
   "cell_type": "markdown",
   "id": "5f18a33f-ade1-45fe-92c9-e4921566989c",
   "metadata": {},
   "source": [
    "## List\n",
    "\n",
    "The list type enables values of the same type being stacked together in a sequence of values in each column slot. The layout is similar to binary or string type as it has offsets buffer to define where the sequence of values starts and ends with all the values of the column being stored consecutively in a values buffer.\n",
    "\n",
    "![image info](./diagrams/var-list-diagram.svg)"
   ]
  },
  {
   "cell_type": "code",
   "execution_count": 55,
   "id": "bf83d05a-90b2-4ce8-8bd0-cfbf05517464",
   "metadata": {},
   "outputs": [],
   "source": [
    "import nanoarrow as na\n",
    "import numpy as np\n",
    "import pyarrow as pa"
   ]
  },
  {
   "cell_type": "code",
   "execution_count": 56,
   "id": "5935e2d3-4c7f-45d2-86c0-8ef3c6de266d",
   "metadata": {},
   "outputs": [
    {
     "data": {
      "text/plain": [
       "<pyarrow.lib.ListArray object at 0x108268c40>\n",
       "[\n",
       "  [\n",
       "    12,\n",
       "    -7,\n",
       "    25\n",
       "  ],\n",
       "  null,\n",
       "  [\n",
       "    0,\n",
       "    -127,\n",
       "    127,\n",
       "    50\n",
       "  ],\n",
       "  []\n",
       "]"
      ]
     },
     "execution_count": 56,
     "metadata": {},
     "output_type": "execute_result"
    }
   ],
   "source": [
    "column_1 = pa.array([[12, -7, 25], None, [0, -127, 127, 50], []],\n",
    "                    type=pa.list_(pa.int8()))\n",
    "column_1"
   ]
  },
  {
   "cell_type": "markdown",
   "id": "ab05bef2-9567-4f27-ac28-effca68b245e",
   "metadata": {},
   "source": [
    "When inspecting a list type column (and all nested data in general) using pyarrow, the `buffers()` method returns all buffers - of list array itself (validity bitmap buffer and offset buffer) and its child array (validity bitmap buffer and values buffer):"
   ]
  },
  {
   "cell_type": "code",
   "execution_count": 57,
   "id": "c320308d-56df-4ce8-81db-ce66d060430e",
   "metadata": {},
   "outputs": [
    {
     "data": {
      "text/plain": [
       "[<pyarrow.Buffer address=0x4bdc4020740 size=1 is_cpu=True is_mutable=True>,\n",
       " <pyarrow.Buffer address=0x4bdc4020800 size=20 is_cpu=True is_mutable=True>,\n",
       " None,\n",
       " <pyarrow.Buffer address=0x4bdc4020b40 size=7 is_cpu=True is_mutable=True>]"
      ]
     },
     "execution_count": 57,
     "metadata": {},
     "output_type": "execute_result"
    }
   ],
   "source": [
    "# Inspecting buffers using PyArrow and buffers() method\n",
    "column_1.buffers()"
   ]
  },
  {
   "cell_type": "code",
   "execution_count": 58,
   "id": "940b7c27-7f59-44d2-889a-c37d9fed2674",
   "metadata": {},
   "outputs": [
    {
     "data": {
      "text/plain": [
       "array([1, 0, 1, 1, 0, 0, 0, 0], dtype=uint8)"
      ]
     },
     "execution_count": 58,
     "metadata": {},
     "output_type": "execute_result"
    }
   ],
   "source": [
    "# Inspecting buffers using PyArrow and buffers() method and numpy\n",
    "\n",
    "validity_bitmap_buffer = column_1.buffers()[0]\n",
    "np.unpackbits(np.frombuffer(validity_bitmap_buffer, dtype=\"uint8\"), bitorder=\"little\")"
   ]
  },
  {
   "cell_type": "code",
   "execution_count": 59,
   "id": "964e5faf-597a-4e3b-b90f-4a469d0798e3",
   "metadata": {},
   "outputs": [
    {
     "data": {
      "text/plain": [
       "array([0, 3, 3, 7, 7], dtype=int32)"
      ]
     },
     "execution_count": 59,
     "metadata": {},
     "output_type": "execute_result"
    }
   ],
   "source": [
    "offsets_buffer = column_1.buffers()[1]\n",
    "np.frombuffer(offsets_buffer, dtype=\"int32\")"
   ]
  },
  {
   "cell_type": "code",
   "execution_count": 60,
   "id": "66314414-46e9-4675-86f6-ac6bf04c1d4b",
   "metadata": {},
   "outputs": [
    {
     "data": {
      "text/plain": [
       "True"
      ]
     },
     "execution_count": 60,
     "metadata": {},
     "output_type": "execute_result"
    }
   ],
   "source": [
    "values_validity_bitmap_buffer = column_1.buffers()[2]\n",
    "values_validity_bitmap_buffer is None"
   ]
  },
  {
   "cell_type": "code",
   "execution_count": 61,
   "id": "a10338fd-aaf0-4511-ad57-0a799623cd0b",
   "metadata": {},
   "outputs": [
    {
     "data": {
      "text/plain": [
       "array([  12,   -7,   25,    0, -127,  127,   50], dtype=int8)"
      ]
     },
     "execution_count": 61,
     "metadata": {},
     "output_type": "execute_result"
    }
   ],
   "source": [
    "values_buffer = column_1.buffers()[3]\n",
    "np.frombuffer(values_buffer, dtype=\"int8\")"
   ]
  },
  {
   "cell_type": "code",
   "execution_count": 62,
   "id": "42f8571b-03d8-4b97-9599-0dff12622429",
   "metadata": {},
   "outputs": [
    {
     "data": {
      "text/plain": [
       "<nanoarrow.c_lib.CArrayView>\n",
       "- storage_type: 'list'\n",
       "- length: 4\n",
       "- offset: 0\n",
       "- null_count: 1\n",
       "- buffers[2]:\n",
       "  - validity <bool[1 b] 10110000>\n",
       "  - data_offset <int32[20 b] 0 3 3 7 7>\n",
       "- dictionary: NULL\n",
       "- children[1]:\n",
       "  - <nanoarrow.c_lib.CArrayView>\n",
       "    - storage_type: 'int8'\n",
       "    - length: 7\n",
       "    - offset: 0\n",
       "    - null_count: 0\n",
       "    - buffers[2]:\n",
       "      - validity <bool[0 b] >\n",
       "      - data <int8[7 b] 12 -7 25 0 -127 127 50>\n",
       "    - dictionary: NULL\n",
       "    - children[0]:"
      ]
     },
     "execution_count": 62,
     "metadata": {},
     "output_type": "execute_result"
    }
   ],
   "source": [
    "# Inspecting buffers using nanoarrow\n",
    "\n",
    "na_column4 = na.c_array(column_1)\n",
    "na.c_array_view(na_column4)"
   ]
  },
  {
   "cell_type": "markdown",
   "id": "1d709aed-ab97-4316-bf9c-417736d7f980",
   "metadata": {},
   "source": [
    "### Fixed size list\n",
    "\n",
    "**Fixed size list** is a special case of variable-size list where each column slot contains a fixed size sequence meaning all lists are the same size and so the offset buffer is no longer needed.\n",
    "\n",
    "![image info](./diagrams/fixed-list-diagram.svg)"
   ]
  },
  {
   "cell_type": "code",
   "execution_count": 63,
   "id": "e1020668-d07b-410a-87ec-05142d8ddbd4",
   "metadata": {},
   "outputs": [
    {
     "data": {
      "text/plain": [
       "<nanoarrow.c_lib.CArrayView>\n",
       "- storage_type: 'fixed_size_list'\n",
       "- length: 3\n",
       "- offset: 0\n",
       "- null_count: 1\n",
       "- buffers[1]:\n",
       "  - validity <bool[1 b] 10100000>\n",
       "- dictionary: NULL\n",
       "- children[1]:\n",
       "  - <nanoarrow.c_lib.CArrayView>\n",
       "    - storage_type: 'int16'\n",
       "    - length: 6\n",
       "    - offset: 0\n",
       "    - null_count: 3\n",
       "    - buffers[2]:\n",
       "      - validity <bool[1 b] 11001000>\n",
       "      - data <int16[12 b] 12 -7 0 0 0 0>\n",
       "    - dictionary: NULL\n",
       "    - children[0]:"
      ]
     },
     "execution_count": 63,
     "metadata": {},
     "output_type": "execute_result"
    }
   ],
   "source": [
    "column_2 = pa.array([[12, -7], None, [0, None]], type=pa.list_(pa.int16(), 2))\n",
    "na.c_array_view(na.c_array(column_2))"
   ]
  },
  {
   "cell_type": "markdown",
   "id": "fae3ac47-3a11-4d58-bb1f-90c4de797310",
   "metadata": {},
   "source": [
    "### List and large list comparison\n",
    "\n",
    "In a normal list with variable or fixed size the offsets are `int32` while in the **large** list the offsets are `int64`."
   ]
  },
  {
   "cell_type": "code",
   "execution_count": 64,
   "id": "04d85702-5822-4ecf-b06c-31b43270bbdf",
   "metadata": {},
   "outputs": [
    {
     "data": {
      "text/plain": [
       "<nanoarrow.c_lib.CArrayView>\n",
       "- storage_type: 'list'\n",
       "- length: 4\n",
       "- offset: 0\n",
       "- null_count: 1\n",
       "- buffers[2]:\n",
       "  - validity <bool[1 b] 10110000>\n",
       "  - data_offset <int32[20 b] 0 3 3 7 7>\n",
       "- dictionary: NULL\n",
       "- children[1]:\n",
       "  - <nanoarrow.c_lib.CArrayView>\n",
       "    - storage_type: 'int8'\n",
       "    - length: 7\n",
       "    - offset: 0\n",
       "    - null_count: 0\n",
       "    - buffers[2]:\n",
       "      - validity <bool[0 b] >\n",
       "      - data <int8[7 b] 12 -7 25 0 -127 127 50>\n",
       "    - dictionary: NULL\n",
       "    - children[0]:"
      ]
     },
     "execution_count": 64,
     "metadata": {},
     "output_type": "execute_result"
    }
   ],
   "source": [
    "column_1 = pa.array([[12, -7, 25], None, [0, -127, 127, 50], []],\n",
    "                    type=pa.list_(pa.int8()))\n",
    "na.c_array_view(na.c_array(column_1))"
   ]
  },
  {
   "cell_type": "code",
   "execution_count": 65,
   "id": "5e6da58f-da69-4bf8-b062-31898ff77f9c",
   "metadata": {},
   "outputs": [
    {
     "data": {
      "text/plain": [
       "<nanoarrow.c_lib.CArrayView>\n",
       "- storage_type: 'large_list'\n",
       "- length: 4\n",
       "- offset: 0\n",
       "- null_count: 1\n",
       "- buffers[2]:\n",
       "  - validity <bool[1 b] 10110000>\n",
       "  - data_offset <int64[40 b] 0 3 3 7 7>\n",
       "- dictionary: NULL\n",
       "- children[1]:\n",
       "  - <nanoarrow.c_lib.CArrayView>\n",
       "    - storage_type: 'int8'\n",
       "    - length: 7\n",
       "    - offset: 0\n",
       "    - null_count: 0\n",
       "    - buffers[2]:\n",
       "      - validity <bool[0 b] >\n",
       "      - data <int8[7 b] 12 -7 25 0 -127 127 50>\n",
       "    - dictionary: NULL\n",
       "    - children[0]:"
      ]
     },
     "execution_count": 65,
     "metadata": {},
     "output_type": "execute_result"
    }
   ],
   "source": [
    "column_1_large = pa.array([[12, -7, 25], None, [0, -127, 127, 50], []],\n",
    "                          type=pa.large_list(pa.int8()))\n",
    "na.c_array_view(na.c_array(column_1_large))"
   ]
  },
  {
   "cell_type": "markdown",
   "id": "9e00e22d-e965-4cf8-9749-0b574920a198",
   "metadata": {},
   "source": [
    "### List and large list view\n",
    "\n",
    "List view type allows arrays to specify out-of-order offsets."
   ]
  },
  {
   "cell_type": "code",
   "execution_count": 66,
   "id": "25aae35a-8468-46ba-b971-07fef855bc14",
   "metadata": {},
   "outputs": [],
   "source": [
    "column_3 = pa.ListViewArray.from_arrays(offsets=[4, 7, 0, 0, 3],\n",
    "                                        sizes=[3, 0, 4, 0, 2],\n",
    "                                        values=[0, -127, 127, 50, 12, -7, 25],\n",
    "                                        mask=pa.array([False, True, False, False, False]))"
   ]
  },
  {
   "cell_type": "code",
   "execution_count": 67,
   "id": "3112f832-ce44-4a94-a140-2b602b5fa9aa",
   "metadata": {},
   "outputs": [
    {
     "data": {
      "text/plain": [
       "[<pyarrow.Buffer address=0x4bdc4021380 size=1 is_cpu=True is_mutable=True>,\n",
       " <pyarrow.Buffer address=0x4bdc4050a80 size=20 is_cpu=True is_mutable=True>,\n",
       " <pyarrow.Buffer address=0x4bdc4050b00 size=20 is_cpu=True is_mutable=True>,\n",
       " None,\n",
       " <pyarrow.Buffer address=0x4bdc4021340 size=56 is_cpu=True is_mutable=True>]"
      ]
     },
     "execution_count": 67,
     "metadata": {},
     "output_type": "execute_result"
    }
   ],
   "source": [
    "column_3.buffers()"
   ]
  },
  {
   "cell_type": "code",
   "execution_count": 68,
   "id": "4865c628-4351-4785-9192-94a20c474d1e",
   "metadata": {},
   "outputs": [
    {
     "data": {
      "text/plain": [
       "<pyarrow.lib.ListViewArray object at 0x116032740>\n",
       "[\n",
       "  [\n",
       "    12,\n",
       "    -7,\n",
       "    25\n",
       "  ],\n",
       "  null,\n",
       "  [\n",
       "    0,\n",
       "    -127,\n",
       "    127,\n",
       "    50\n",
       "  ],\n",
       "  [],\n",
       "  [\n",
       "    50,\n",
       "    12\n",
       "  ]\n",
       "]"
      ]
     },
     "execution_count": 68,
     "metadata": {},
     "output_type": "execute_result"
    }
   ],
   "source": [
    "column_3"
   ]
  },
  {
   "cell_type": "code",
   "execution_count": 69,
   "id": "22051802-669b-49bc-b0d5-663ccda2362c",
   "metadata": {},
   "outputs": [
    {
     "data": {
      "text/plain": [
       "array([   0, -127,  127,   50,   12,   -7,   25])"
      ]
     },
     "execution_count": 69,
     "metadata": {},
     "output_type": "execute_result"
    }
   ],
   "source": [
    "values_buffer = column_3.buffers()[4]\n",
    "np.frombuffer(values_buffer, dtype=\"int64\")"
   ]
  },
  {
   "cell_type": "markdown",
   "id": "bbfe277b-27ca-4025-98fd-c7f0d14bd9bf",
   "metadata": {},
   "source": [
    "### Struct\n",
    "\n",
    "A struct is a nested type parameterized by an ordered sequence of types.\n",
    "\n",
    "* one child array for each field\n",
    "* child arrays are independent and need not be adjacent to each other in memory\n",
    "\n",
    "One can think of an individual struct field as a key-value pair where the key is the field name and the child array its values. The field (key) is saved in the schema and the values of a specific field (key) are saved in the child array.\n",
    "\n",
    "![image info](./diagrams/struct-diagram.svg)"
   ]
  },
  {
   "cell_type": "code",
   "execution_count": 70,
   "id": "6faf802d-edaa-4679-b889-ffa772cc4f41",
   "metadata": {},
   "outputs": [
    {
     "data": {
      "text/plain": [
       "<pyarrow.lib.StructArray object at 0x1082b5600>\n",
       "-- is_valid:\n",
       "  [\n",
       "    true,\n",
       "    true,\n",
       "    false,\n",
       "    true,\n",
       "    true\n",
       "  ]\n",
       "-- child 0 type: string\n",
       "  [\n",
       "    \"joe\",\n",
       "    null,\n",
       "    \"\",\n",
       "    \"mark\",\n",
       "    \"jane\"\n",
       "  ]\n",
       "-- child 1 type: int8\n",
       "  [\n",
       "    1,\n",
       "    2,\n",
       "    0,\n",
       "    4,\n",
       "    null\n",
       "  ]"
      ]
     },
     "execution_count": 70,
     "metadata": {},
     "output_type": "execute_result"
    }
   ],
   "source": [
    "ty = pa.struct([pa.field('x', pa.string()),\n",
    "                pa.field('y', pa.int8())])\n",
    "column_4 = pa.array([{\"x\": \"joe\", \"y\": 1},\n",
    "                     {\"x\": None, \"y\": 2}, None,\n",
    "                     {\"x\": \"mark\", \"y\": 4},\n",
    "                     {\"x\": \"jane\", \"y\": None}],\n",
    "                    type=ty)\n",
    "column_4"
   ]
  },
  {
   "cell_type": "code",
   "execution_count": 71,
   "id": "2b5eff92-29d4-4a7a-b5d9-4b32fd5dbf60",
   "metadata": {},
   "outputs": [
    {
     "data": {
      "text/plain": [
       "[<pyarrow.Buffer address=0x4bdc40213c0 size=1 is_cpu=True is_mutable=True>,\n",
       " <pyarrow.Buffer address=0x4bdc4021440 size=1 is_cpu=True is_mutable=True>,\n",
       " <pyarrow.Buffer address=0x4bdc4021400 size=24 is_cpu=True is_mutable=True>,\n",
       " <pyarrow.Buffer address=0x4bdc4021500 size=11 is_cpu=True is_mutable=True>,\n",
       " <pyarrow.Buffer address=0x4bdc40214c0 size=1 is_cpu=True is_mutable=True>,\n",
       " <pyarrow.Buffer address=0x4bdc4021480 size=5 is_cpu=True is_mutable=True>]"
      ]
     },
     "execution_count": 71,
     "metadata": {},
     "output_type": "execute_result"
    }
   ],
   "source": [
    "column_4.buffers()"
   ]
  },
  {
   "cell_type": "code",
   "execution_count": 72,
   "id": "23de1ef2-2695-4311-b074-c2e06191f9e8",
   "metadata": {},
   "outputs": [
    {
     "data": {
      "text/plain": [
       "<nanoarrow.c_lib.CArrayView>\n",
       "- storage_type: 'struct'\n",
       "- length: 5\n",
       "- offset: 0\n",
       "- null_count: 1\n",
       "- buffers[1]:\n",
       "  - validity <bool[1 b] 11011000>\n",
       "- dictionary: NULL\n",
       "- children[2]:\n",
       "  - <nanoarrow.c_lib.CArrayView>\n",
       "    - storage_type: 'string'\n",
       "    - length: 5\n",
       "    - offset: 0\n",
       "    - null_count: 1\n",
       "    - buffers[3]:\n",
       "      - validity <bool[1 b] 10111000>\n",
       "      - data_offset <int32[24 b] 0 3 3 3 7 11>\n",
       "      - data <string[11 b] b'joemarkjane'>\n",
       "    - dictionary: NULL\n",
       "    - children[0]:\n",
       "  - <nanoarrow.c_lib.CArrayView>\n",
       "    - storage_type: 'int8'\n",
       "    - length: 5\n",
       "    - offset: 0\n",
       "    - null_count: 1\n",
       "    - buffers[2]:\n",
       "      - validity <bool[1 b] 11110000>\n",
       "      - data <int8[5 b] 1 2 0 4 0>\n",
       "    - dictionary: NULL\n",
       "    - children[0]:"
      ]
     },
     "execution_count": 72,
     "metadata": {},
     "output_type": "execute_result"
    }
   ],
   "source": [
    "na.c_array_view(na.c_array(column_4))"
   ]
  },
  {
   "cell_type": "markdown",
   "id": "89334f26-9d38-489b-9de2-4a3c114e2d89",
   "metadata": {},
   "source": [
    "### Map\n",
    "\n",
    "Map type represents nested data where each value is a variable number of key-value pairs. Its physical representation is the same as a list of `{key, value}` structs.\n",
    "\n",
    "The difference between a struct and a map type is that a struct holds the key in the schema therefore needs to be a string, the values are stored in values buffer, one per each field. There can be multiple keys and therefore multiple values buffers. The map comparing to the struct has one child array holding all different keys that need to be all same type but not necessarily string and second child array holding all the values which also need to be the same type.\n",
    "\n",
    "Also, the map stores the struct in a list and needs an offset as the list is variable shape.\n",
    "\n",
    "![image info](./diagrams/map-diagram.svg)"
   ]
  },
  {
   "cell_type": "code",
   "execution_count": 73,
   "id": "925d4b90-0318-40de-bb8d-e9e16f3cb197",
   "metadata": {},
   "outputs": [
    {
     "data": {
      "text/plain": [
       "<pyarrow.lib.MapArray object at 0x1082b6d40>\n",
       "[\n",
       "  keys:\n",
       "  [\n",
       "    \"Dark Knight\"\n",
       "  ]\n",
       "  values:\n",
       "  [\n",
       "    10\n",
       "  ],\n",
       "  keys:\n",
       "  [\n",
       "    \"Dark Knight\",\n",
       "    \"Meet the Parents\",\n",
       "    \"Superman\"\n",
       "  ]\n",
       "  values:\n",
       "  [\n",
       "    8,\n",
       "    4,\n",
       "    5\n",
       "  ],\n",
       "  null,\n",
       "  keys:\n",
       "  [\n",
       "    \"Meet the Parents\",\n",
       "    \"Superman\"\n",
       "  ]\n",
       "  values:\n",
       "  [\n",
       "    10,\n",
       "    null\n",
       "  ]\n",
       "]"
      ]
     },
     "execution_count": 73,
     "metadata": {},
     "output_type": "execute_result"
    }
   ],
   "source": [
    "column_6_data = [{'Dark Knight': 10},\n",
    "                 {'Dark Knight': 8, 'Meet the Parents': 4, 'Superman': 5},\n",
    "                 None,\n",
    "                 {'Meet the Parents': 10, 'Superman': None}]\n",
    "column_6 = pa.array(column_6_data, type=pa.map_(pa.string(), pa.int32()))\n",
    "column_6"
   ]
  },
  {
   "cell_type": "code",
   "execution_count": 74,
   "id": "501aec37-6a62-4b3d-9d8b-7067d2879c5a",
   "metadata": {},
   "outputs": [
    {
     "data": {
      "text/plain": [
       "[<pyarrow.Buffer address=0x4bdc4021580 size=1 is_cpu=True is_mutable=True>,\n",
       " <pyarrow.Buffer address=0x4bdc4021540 size=20 is_cpu=True is_mutable=True>,\n",
       " None,\n",
       " None,\n",
       " <pyarrow.Buffer address=0x4bdc4021600 size=28 is_cpu=True is_mutable=True>,\n",
       " <pyarrow.Buffer address=0x4bdc4050c00 size=70 is_cpu=True is_mutable=True>,\n",
       " <pyarrow.Buffer address=0x4bdc4021680 size=1 is_cpu=True is_mutable=True>,\n",
       " <pyarrow.Buffer address=0x4bdc4050b80 size=24 is_cpu=True is_mutable=True>]"
      ]
     },
     "execution_count": 74,
     "metadata": {},
     "output_type": "execute_result"
    }
   ],
   "source": [
    "column_6.buffers()"
   ]
  },
  {
   "cell_type": "code",
   "execution_count": 75,
   "id": "f5d446fd-c5e7-4d0b-8fc9-b2b0413b87a7",
   "metadata": {},
   "outputs": [
    {
     "data": {
      "text/plain": [
       "<nanoarrow.c_lib.CArrayView>\n",
       "- storage_type: 'map'\n",
       "- length: 4\n",
       "- offset: 0\n",
       "- null_count: 1\n",
       "- buffers[2]:\n",
       "  - validity <bool[1 b] 11010000>\n",
       "  - data_offset <int32[20 b] 0 1 4 4 6>\n",
       "- dictionary: NULL\n",
       "- children[1]:\n",
       "  - <nanoarrow.c_lib.CArrayView>\n",
       "    - storage_type: 'struct'\n",
       "    - length: 6\n",
       "    - offset: 0\n",
       "    - null_count: 0\n",
       "    - buffers[1]:\n",
       "      - validity <bool[0 b] >\n",
       "    - dictionary: NULL\n",
       "    - children[2]:\n",
       "      - <nanoarrow.c_lib.CArrayView>\n",
       "        - storage_type: 'string'\n",
       "        - length: 6\n",
       "        - offset: 0\n",
       "        - null_count: 0\n",
       "        - buffers[3]:\n",
       "          - validity <bool[0 b] >\n",
       "          - data_offset <int32[28 b] 0 11 22 38 46 62 70>\n",
       "          - data <string[70 b] b'D...>\n",
       "        - dictionary: NULL\n",
       "        - children[0]:\n",
       "      - <nanoarrow.c_lib.CArrayView>\n",
       "        - storage_type: 'int32'\n",
       "        - length: 6\n",
       "        - offset: 0\n",
       "        - null_count: 1\n",
       "        - buffers[2]:\n",
       "          - validity <bool[1 b] 11111000>\n",
       "          - data <int32[24 b] 10 8 4 5 10 0>\n",
       "        - dictionary: NULL\n",
       "        - children[0]:"
      ]
     },
     "execution_count": 75,
     "metadata": {},
     "output_type": "execute_result"
    }
   ],
   "source": [
    "na.c_array_view(na.c_array(column_6))"
   ]
  },
  {
   "cell_type": "markdown",
   "id": "281a2e94-7394-45ca-a5d8-a090721d6933",
   "metadata": {},
   "source": [
    "### Comparing the conversion of struct and map to python objects\n",
    "\n",
    "Struct converts to a list of dictionaries:"
   ]
  },
  {
   "cell_type": "code",
   "execution_count": 76,
   "id": "7f6a31a4-3a4b-4bc5-aa25-97592d108040",
   "metadata": {},
   "outputs": [
    {
     "data": {
      "text/plain": [
       "array([{'x': 'joe', 'y': 1.0}, {'x': None, 'y': 2.0}, None,\n",
       "       {'x': 'mark', 'y': 4.0}, {'x': 'jane', 'y': None}], dtype=object)"
      ]
     },
     "execution_count": 76,
     "metadata": {},
     "output_type": "execute_result"
    }
   ],
   "source": [
    "column_4.to_numpy(zero_copy_only=False)"
   ]
  },
  {
   "cell_type": "code",
   "execution_count": 77,
   "id": "652acfb6-9dab-4810-ab51-eaf837e32933",
   "metadata": {},
   "outputs": [
    {
     "data": {
      "text/plain": [
       "[{'x': 'joe', 'y': 1},\n",
       " {'x': None, 'y': 2},\n",
       " None,\n",
       " {'x': 'mark', 'y': 4},\n",
       " {'x': 'jane', 'y': None}]"
      ]
     },
     "execution_count": 77,
     "metadata": {},
     "output_type": "execute_result"
    }
   ],
   "source": [
    "column_4.to_pylist()"
   ]
  },
  {
   "cell_type": "markdown",
   "id": "6eba5518-2c9b-4da7-9a00-7e10fdd5fdcd",
   "metadata": {},
   "source": [
    "And map converts to a nested list of tuples by default:"
   ]
  },
  {
   "cell_type": "code",
   "execution_count": 78,
   "id": "efa598d8-2c28-40a3-9a77-71ee30446a78",
   "metadata": {},
   "outputs": [
    {
     "data": {
      "text/plain": [
       "array([list([('Dark Knight', 10.0)]),\n",
       "       list([('Dark Knight', 8.0), ('Meet the Parents', 4.0), ('Superman', 5.0)]),\n",
       "       None, list([('Meet the Parents', 10.0), ('Superman', None)])],\n",
       "      dtype=object)"
      ]
     },
     "execution_count": 78,
     "metadata": {},
     "output_type": "execute_result"
    }
   ],
   "source": [
    "column_6.to_numpy(zero_copy_only=False)"
   ]
  },
  {
   "cell_type": "markdown",
   "id": "cac170fc-449d-420b-920e-e776b606a248",
   "metadata": {},
   "source": [
    "Or to dictionary with the use of `maps_as_pydicts` keyword:"
   ]
  },
  {
   "cell_type": "code",
   "execution_count": 86,
   "id": "4f548af3-d355-41d3-a02c-e7be7c286c82",
   "metadata": {},
   "outputs": [
    {
     "data": {
      "text/plain": [
       "0                                {'Dark Knight': 10.0}\n",
       "1    {'Dark Knight': 8.0, 'Meet the Parents': 4.0, ...\n",
       "2                                                 None\n",
       "3         {'Meet the Parents': 10.0, 'Superman': None}\n",
       "dtype: object"
      ]
     },
     "execution_count": 86,
     "metadata": {},
     "output_type": "execute_result"
    }
   ],
   "source": [
    "# maps_as_pydicts can be ‘lossy’ or ‘strict’\n",
    "# This can change the ordering of (key, value) pairs, and will deduplicate multiple keys, resulting in a possible loss of data.\n",
    "\n",
    "# ‘lossy’: warning printed when detected\n",
    "# ‘strict’ exception being raised when deduplicate detected\n",
    "column_6.to_pandas(zero_copy_only=False, maps_as_pydicts=\"lossy\")"
   ]
  },
  {
   "cell_type": "code",
   "execution_count": 79,
   "id": "5a343a97-6410-418e-ab9d-93bfd4cf8d3f",
   "metadata": {},
   "outputs": [
    {
     "data": {
      "text/plain": [
       "[[('Dark Knight', 10)],\n",
       " [('Dark Knight', 8), ('Meet the Parents', 4), ('Superman', 5)],\n",
       " None,\n",
       " [('Meet the Parents', 10), ('Superman', None)]]"
      ]
     },
     "execution_count": 79,
     "metadata": {},
     "output_type": "execute_result"
    }
   ],
   "source": [
    "column_6.to_pylist()"
   ]
  }
 ],
 "metadata": {
  "kernelspec": {
   "display_name": "Python (arrow-dev)",
   "language": "python",
   "name": "arrow-dev"
  },
  "language_info": {
   "codemirror_mode": {
    "name": "ipython",
    "version": 3
   },
   "file_extension": ".py",
   "mimetype": "text/x-python",
   "name": "python",
   "nbconvert_exporter": "python",
   "pygments_lexer": "ipython3",
   "version": "3.11.8"
  }
 },
 "nbformat": 4,
 "nbformat_minor": 5
}

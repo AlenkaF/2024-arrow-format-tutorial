{
 "cells": [
  {
   "cell_type": "markdown",
   "metadata": {
    "id": "jphgqRK940NI"
   },
   "source": [
    "## Support for null values\n",
    "\n",
    "Arrow supports missing values or \"nulls\" for all data types: any value in an array may be semantically null, whether primitive or nested type.\n",
    "\n",
    "In Arrow, a dedicated buffer, known as the validity (or \"null\") bitmap, is used alongside the data indicating whether each value in the array is null or not. You can think of it as vector of 0 and 1 values, where a 1 means that the value is not-null (\"valid\"), while a 0 indicates the value is null.\n",
    "\n",
    "This validity bitmap is optional, i.e. if there are no missing values in the array the buffer does not need to be allocated (as in the example column 1 in the diagram below).\n",
    "\n",
    "![](diagrams/primitive-diagram.svg)"
   ]
  },
  {
   "cell_type": "code",
   "execution_count": 2,
   "metadata": {},
   "outputs": [],
   "source": [
    "import numpy as np\n",
    "import pyarrow as pa\n",
    "import nanoarrow as na"
   ]
  },
  {
   "cell_type": "code",
   "execution_count": 3,
   "metadata": {
    "colab": {
     "base_uri": "https://localhost:8080/"
    },
    "id": "QX7HnLig42Ya",
    "outputId": "1a16bbc3-c725-4eb0-9c4c-3f454388cc39"
   },
   "outputs": [
    {
     "data": {
      "text/plain": [
       "<pyarrow.lib.DoubleArray object at 0x7fe64d8236a0>\n",
       "[\n",
       "  1.2,\n",
       "  3.4,\n",
       "  9,\n",
       "  null,\n",
       "  2.9\n",
       "]"
      ]
     },
     "execution_count": 3,
     "metadata": {},
     "output_type": "execute_result"
    }
   ],
   "source": [
    "arr = pa.array([1.2, 3.4, 9.0, None, 2.9])\n",
    "arr"
   ]
  },
  {
   "cell_type": "code",
   "execution_count": 4,
   "metadata": {
    "colab": {
     "base_uri": "https://localhost:8080/"
    },
    "id": "NNcrvbyv7cvN",
    "outputId": "23ec4c17-0f51-46ee-b7f7-b745fbf5eab8"
   },
   "outputs": [
    {
     "data": {
      "text/plain": [
       "<nanoarrow.c_lib.CArrayView>\n",
       "- storage_type: 'double'\n",
       "- length: 5\n",
       "- offset: 0\n",
       "- null_count: 1\n",
       "- buffers[2]:\n",
       "  - validity <bool[1 b] 11101000>\n",
       "  - data <double[40 b] 1.2 3.4 9.0 0.0 2.9>\n",
       "- dictionary: NULL\n",
       "- children[0]:"
      ]
     },
     "execution_count": 4,
     "metadata": {},
     "output_type": "execute_result"
    }
   ],
   "source": [
    "na.c_array_view(arr)"
   ]
  },
  {
   "cell_type": "markdown",
   "metadata": {
    "id": "Nc7uYpry5u0u"
   },
   "source": [
    "**Attention**: Arrow uses [least-significant bit (LSB) numbering](https://en.wikipedia.org/wiki/Bit_numbering) (also known as bit-endianness). This means that within a group of 8 bits (1 byte), we read right-to-left. However, the `nanoarrow` repr of the validity buffer in the example above already takes that into account and shows the values in logical order matching the position in the array. \n",
    "\n",
    "The diagram above shows it as how it is actually stored in memory. We can inspect the validity bitmap buffer with pyarrow and numpy:"
   ]
  },
  {
   "cell_type": "code",
   "execution_count": 5,
   "metadata": {
    "colab": {
     "base_uri": "https://localhost:8080/"
    },
    "id": "DuIwrjV7Vqlb",
    "outputId": "394ceb73-cf0e-4c91-f216-aa613ff3adca"
   },
   "outputs": [
    {
     "data": {
      "text/plain": [
       "b'\\x17'"
      ]
     },
     "execution_count": 5,
     "metadata": {},
     "output_type": "execute_result"
    }
   ],
   "source": [
    "validity_bitmap_buffer = arr.buffers()[0]\n",
    "validity_bitmap_buffer.to_pybytes()"
   ]
  },
  {
   "cell_type": "markdown",
   "metadata": {},
   "source": [
    "In this case of a small array of 5 values, the validity bitmap consists of only a single byte. To view the data as bytes in numpy, we can use the `uint8` data type, which has a width of 1 byte:"
   ]
  },
  {
   "cell_type": "code",
   "execution_count": 9,
   "metadata": {},
   "outputs": [
    {
     "data": {
      "text/plain": [
       "array([23], dtype=uint8)"
      ]
     },
     "execution_count": 9,
     "metadata": {},
     "output_type": "execute_result"
    }
   ],
   "source": [
    "np.frombuffer(validity_bitmap_buffer, dtype=\"uint8\")"
   ]
  },
  {
   "cell_type": "markdown",
   "metadata": {},
   "source": [
    "Numpy also provides a function to \"unpack\" the 0/1 bits of those bytes into separate values:"
   ]
  },
  {
   "cell_type": "code",
   "execution_count": 10,
   "metadata": {
    "colab": {
     "base_uri": "https://localhost:8080/"
    },
    "id": "ZvPrUkqOVrnI",
    "outputId": "8ddb9875-2584-4118-d332-f668907a5da7"
   },
   "outputs": [
    {
     "data": {
      "text/plain": [
       "array([1, 1, 1, 0, 1, 0, 0, 0], dtype=uint8)"
      ]
     },
     "execution_count": 10,
     "metadata": {},
     "output_type": "execute_result"
    }
   ],
   "source": [
    "np.unpackbits(np.frombuffer(validity_bitmap_buffer, dtype=\"uint8\"), bitorder=\"little\")"
   ]
  },
  {
   "cell_type": "markdown",
   "metadata": {},
   "source": [
    "In this case of an array of 5 elements, only the first 5 bits have a meaning, and the additional (\"padded\") bits are always set to 0."
   ]
  },
  {
   "cell_type": "markdown",
   "metadata": {
    "id": "wcqi2PDlWa2w"
   },
   "source": [
    "### Null vs NaN\n",
    "\n",
    "In numpy (and numpy-based packages such as pandas), often `NaN` is used as indicator for \"missing\" values, mostly by lack of better alternatives (numpy does not have built-in support for missing values in general). `NaN` is a specific floating-point value (\"Not a Number\") within the IEEE floating-point standard, and thus is only available for floating point data types.\n",
    "In the Arrow format, since there is a separate concept of nulls, a NaN value is considered as just another valid floating point array value:"
   ]
  },
  {
   "cell_type": "code",
   "execution_count": 11,
   "metadata": {},
   "outputs": [],
   "source": [
    "arr = na.Array([0.5, float(\"nan\"), 1.5, None, 3.5], na.float64())"
   ]
  },
  {
   "cell_type": "code",
   "execution_count": 12,
   "metadata": {},
   "outputs": [
    {
     "data": {
      "text/plain": [
       "nanoarrow.Array<double>[5]\n",
       "0.5\n",
       "nan\n",
       "1.5\n",
       "None\n",
       "3.5"
      ]
     },
     "execution_count": 12,
     "metadata": {},
     "output_type": "execute_result"
    }
   ],
   "source": [
    "arr"
   ]
  },
  {
   "cell_type": "code",
   "execution_count": 13,
   "metadata": {},
   "outputs": [
    {
     "data": {
      "text/plain": [
       "(nanoarrow.c_lib.CBufferView(bool[1 b] 11101000),\n",
       " nanoarrow.c_lib.CBufferView(double[40 b] 0.5 nan 1.5 0.0 3.5))"
      ]
     },
     "execution_count": 13,
     "metadata": {},
     "output_type": "execute_result"
    }
   ],
   "source": [
    "arr.buffers"
   ]
  },
  {
   "cell_type": "code",
   "execution_count": null,
   "metadata": {
    "id": "uaXyvetw0lg_"
   },
   "outputs": [],
   "source": []
  }
 ],
 "metadata": {
  "colab": {
   "provenance": []
  },
  "kernelspec": {
   "display_name": "Python (arrow-dev)",
   "language": "python",
   "name": "arrow-dev"
  },
  "language_info": {
   "codemirror_mode": {
    "name": "ipython",
    "version": 3
   },
   "file_extension": ".py",
   "mimetype": "text/x-python",
   "name": "python",
   "nbconvert_exporter": "python",
   "pygments_lexer": "ipython3",
   "version": "3.11.8"
  }
 },
 "nbformat": 4,
 "nbformat_minor": 4
}

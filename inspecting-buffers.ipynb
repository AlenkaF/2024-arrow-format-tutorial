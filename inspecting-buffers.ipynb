{
 "cells": [
  {
   "cell_type": "code",
   "execution_count": 1,
   "metadata": {
    "id": "7TTfOs0Z0L-S"
   },
   "outputs": [],
   "source": [
    "import numpy as np\n",
    "import nanoarrow as na\n",
    "import pyarrow as pa"
   ]
  },
  {
   "cell_type": "markdown",
   "metadata": {
    "id": "apK6AwKe--uC"
   },
   "source": [
    "### Intermezzo: inspecting the buffers using PyArrow and nanoarrow\n",
    "\n",
    "#### PyArrow\n",
    "\n",
    "For a `pyarrow.Array`, we can use the `buffers()` method to get a list of all the buffers of the array. The information for each buffer inlcudes:\n",
    "\n",
    "- adress of the buffer\n",
    "- buffer size in bytes\n",
    "- whether the buffer is mutable or not (buffers are generally mutable - changable, but an Array is an immutable container in pyarrow)"
   ]
  },
  {
   "cell_type": "code",
   "execution_count": 4,
   "metadata": {
    "colab": {
     "base_uri": "https://localhost:8080/"
    },
    "id": "dLJbgKmX3Zo9",
    "outputId": "b6f8ccb3-5a8a-4930-adce-26b1561b3c15"
   },
   "outputs": [
    {
     "data": {
      "text/plain": [
       "[None,\n",
       " <pyarrow.Buffer address=0x7f7cc1a090c0 size=40 is_cpu=True is_mutable=True>]"
      ]
     },
     "execution_count": 4,
     "metadata": {},
     "output_type": "execute_result"
    }
   ],
   "source": [
    "column1 = pa.array([1, 3, 9, 9, 2], type=pa.int64())\n",
    "column1.buffers()"
   ]
  },
  {
   "cell_type": "markdown",
   "metadata": {},
   "source": [
    "In this case a simple, fixed width primitive array, there is only a single buffer for the data values.\n",
    "\n",
    "PyArrow doesn't provide direct easy access to the buffer content, but here are a few ways to inspect the buffer:"
   ]
  },
  {
   "cell_type": "code",
   "execution_count": 6,
   "metadata": {},
   "outputs": [
    {
     "data": {
      "text/plain": [
       "<pyarrow.Buffer address=0x7f7cc1a090c0 size=40 is_cpu=True is_mutable=True>"
      ]
     },
     "execution_count": 6,
     "metadata": {},
     "output_type": "execute_result"
    }
   ],
   "source": [
    "values_buffer = column1.buffers()[1]\n",
    "values_buffer"
   ]
  },
  {
   "cell_type": "code",
   "execution_count": 11,
   "metadata": {},
   "outputs": [
    {
     "data": {
      "text/plain": [
       "b'\\x01\\x00\\x00\\x00\\x00\\x00\\x00\\x00\\x03\\x00\\x00\\x00\\x00\\x00\\x00\\x00\\t\\x00\\x00\\x00\\x00\\x00\\x00\\x00\\t\\x00\\x00\\x00\\x00\\x00\\x00\\x00\\x02\\x00\\x00\\x00\\x00\\x00\\x00\\x00'"
      ]
     },
     "execution_count": 11,
     "metadata": {},
     "output_type": "execute_result"
    }
   ],
   "source": [
    "# getting the raw bytes as a Python bytes object (note this makes a copy! don't do this with larger data)\n",
    "values_buffer.to_pybytes()"
   ]
  },
  {
   "cell_type": "code",
   "execution_count": 10,
   "metadata": {},
   "outputs": [
    {
     "data": {
      "text/plain": [
       "array([1, 0, 0, 0, 0, 0, 0, 0, 3, 0, 0, 0, 0, 0, 0, 0, 9, 0, 0, 0, 0, 0,\n",
       "       0, 0, 9, 0, 0, 0, 0, 0, 0, 0, 2, 0, 0, 0, 0, 0, 0, 0], dtype=int8)"
      ]
     },
     "execution_count": 10,
     "metadata": {},
     "output_type": "execute_result"
    }
   ],
   "source": [
    "# zero-copy view as a numpy array (using the buffer protocol)\n",
    "# -> this just shows the raw bytes as well\n",
    "np.array(values_buffer)"
   ]
  },
  {
   "cell_type": "code",
   "execution_count": 16,
   "metadata": {},
   "outputs": [
    {
     "data": {
      "text/plain": [
       "array([1, 3, 9, 9, 2])"
      ]
     },
     "execution_count": 16,
     "metadata": {},
     "output_type": "execute_result"
    }
   ],
   "source": [
    "# in this case we know the buffer represents int64 values, so we can view the buffer as such\n",
    "np.frombuffer(values_buffer, dtype=np.int64)"
   ]
  },
  {
   "cell_type": "markdown",
   "metadata": {
    "id": "4AMRlguW6Q7r"
   },
   "source": [
    "#### Inspecting buffers using nanoarrow"
   ]
  },
  {
   "cell_type": "code",
   "execution_count": 18,
   "metadata": {
    "id": "N9m7iKBQ6Qij"
   },
   "outputs": [],
   "source": [
    "na_column4 = na.Array(column4)"
   ]
  },
  {
   "cell_type": "markdown",
   "metadata": {},
   "source": [
    "To start, nanoarrow does have a functionality to print the details of the layout of a certain array, which already gives us insight into the buffers of the array:"
   ]
  },
  {
   "cell_type": "code",
   "execution_count": 19,
   "metadata": {
    "id": "g1JOAwme6mSW"
   },
   "outputs": [
    {
     "data": {
      "text/plain": [
       "<nanoarrow.c_lib.CArrayView>\n",
       "- storage_type: 'int64'\n",
       "- length: 5\n",
       "- offset: 0\n",
       "- null_count: 0\n",
       "- buffers[2]:\n",
       "  - validity <bool[0 b] >\n",
       "  - data <int64[40 b] 1 3 9 9 2>\n",
       "- dictionary: NULL\n",
       "- children[0]:"
      ]
     },
     "execution_count": 19,
     "metadata": {},
     "output_type": "execute_result"
    }
   ],
   "source": [
    "na.c_array_view(na_column4)"
   ]
  },
  {
   "cell_type": "markdown",
   "metadata": {
    "id": "zuO9EOW666XN"
   },
   "source": [
    "Additionally, it also allows us to access the buffers directly through the `buffers` property:"
   ]
  },
  {
   "cell_type": "code",
   "execution_count": 23,
   "metadata": {
    "id": "-ynRSRtl7D8m"
   },
   "outputs": [
    {
     "data": {
      "text/plain": [
       "(nanoarrow.c_lib.CBufferView(bool[0 b] ),\n",
       " nanoarrow.c_lib.CBufferView(int64[40 b] 1 3 9 9 2))"
      ]
     },
     "execution_count": 23,
     "metadata": {},
     "output_type": "execute_result"
    }
   ],
   "source": [
    "na_column4.buffers"
   ]
  },
  {
   "cell_type": "markdown",
   "metadata": {},
   "source": [
    "Nanoarrow does keep track of the context in which the buffer was created (i.e. it is part of an int64 array and represents the data values):"
   ]
  },
  {
   "cell_type": "code",
   "execution_count": 24,
   "metadata": {},
   "outputs": [],
   "source": [
    "data_buffer = na_column4.buffers[1]"
   ]
  },
  {
   "cell_type": "code",
   "execution_count": 25,
   "metadata": {},
   "outputs": [
    {
     "data": {
      "text/plain": [
       "nanoarrow.c_lib.CBufferView(int64[40 b] 1 3 9 9 2)"
      ]
     },
     "execution_count": 25,
     "metadata": {},
     "output_type": "execute_result"
    }
   ],
   "source": [
    "data_buffer"
   ]
  },
  {
   "cell_type": "code",
   "execution_count": 26,
   "metadata": {},
   "outputs": [
    {
     "data": {
      "text/plain": [
       "array([1, 3, 9, 9, 2], dtype=int64)"
      ]
     },
     "execution_count": 26,
     "metadata": {},
     "output_type": "execute_result"
    }
   ],
   "source": [
    "np.array(data_buffer)"
   ]
  }
 ],
 "metadata": {
  "colab": {
   "provenance": []
  },
  "kernelspec": {
   "display_name": "Python (arrow-dev)",
   "language": "python",
   "name": "arrow-dev"
  },
  "language_info": {
   "codemirror_mode": {
    "name": "ipython",
    "version": 3
   },
   "file_extension": ".py",
   "mimetype": "text/x-python",
   "name": "python",
   "nbconvert_exporter": "python",
   "pygments_lexer": "ipython3",
   "version": "3.11.8"
  }
 },
 "nbformat": 4,
 "nbformat_minor": 4
}

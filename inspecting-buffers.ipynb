{
 "cells": [
  {
   "cell_type": "code",
   "execution_count": 1,
   "metadata": {
    "id": "7TTfOs0Z0L-S"
   },
   "outputs": [],
   "source": [
    "import numpy as np\n",
    "import nanoarrow as na\n",
    "import pyarrow as pa"
   ]
  },
  {
   "cell_type": "markdown",
   "metadata": {
    "id": "apK6AwKe--uC"
   },
   "source": [
    "### Intermezzo: inspecting the buffers using PyArrow and nanoarrow\n",
    "\n",
    "### PyArrow\n",
    "\n",
    "The `buffers()` method returns a list of all buffers for a specific array. The information for each buffer inlcudes:\n",
    "- adress of the buffer\n",
    "- buffer size in bytes\n",
    "- whether the buffer is mutable or not (buffers are generally mutable - changable, but an Array is an immutable container)"
   ]
  },
  {
   "cell_type": "code",
   "execution_count": null,
   "metadata": {
    "colab": {
     "base_uri": "https://localhost:8080/"
    },
    "id": "dLJbgKmX3Zo9",
    "outputId": "b6f8ccb3-5a8a-4930-adce-26b1561b3c15"
   },
   "outputs": [
    {
     "data": {
      "text/plain": [
       "[<pyarrow.Buffer address=0x7f4375608180 size=1 is_cpu=True is_mutable=True>,\n",
       " <pyarrow.Buffer address=0x7f4375608080 size=24 is_cpu=True is_mutable=True>,\n",
       " <pyarrow.Buffer address=0x7f43756081c0 size=26 is_cpu=True is_mutable=True>]"
      ]
     },
     "execution_count": 8,
     "metadata": {},
     "output_type": "execute_result"
    }
   ],
   "source": [
    "column4 = pa.array(['python', 'data', 'conference', None, \"Berlin\"], type=pa.string())\n",
    "column4.buffers()"
   ]
  },
  {
   "cell_type": "code",
   "execution_count": null,
   "metadata": {
    "colab": {
     "base_uri": "https://localhost:8080/"
    },
    "id": "K5SQ3Pf_3spr",
    "outputId": "4c8c2da1-18ae-4873-c966-ba485230ab14"
   },
   "outputs": [
    {
     "data": {
      "text/plain": [
       "<pyarrow.lib.BooleanArray object at 0x7f4363e46980>\n",
       "[\n",
       "  true,\n",
       "  true,\n",
       "  true,\n",
       "  false,\n",
       "  true\n",
       "]"
      ]
     },
     "execution_count": 9,
     "metadata": {},
     "output_type": "execute_result"
    }
   ],
   "source": [
    "validity_bitmap_buffer = column4.buffers()[0]\n",
    "pa.Array.from_buffers(pa.bool_(), len(column4), [None, validity_bitmap_buffer])"
   ]
  },
  {
   "cell_type": "code",
   "execution_count": null,
   "metadata": {
    "colab": {
     "base_uri": "https://localhost:8080/"
    },
    "id": "BjZh12lZ5JFn",
    "outputId": "4914036f-a8f1-43cb-80a0-15a81fb7ad4a"
   },
   "outputs": [
    {
     "data": {
      "text/plain": [
       "<pyarrow.lib.Int32Array object at 0x7f4363e78b20>\n",
       "[\n",
       "  0,\n",
       "  6,\n",
       "  10,\n",
       "  20,\n",
       "  20,\n",
       "  26\n",
       "]"
      ]
     },
     "execution_count": 10,
     "metadata": {},
     "output_type": "execute_result"
    }
   ],
   "source": [
    "offsets_buffer = column4.buffers()[1]\n",
    "pa.Array.from_buffers(pa.int32(), len(column4)+1, [None, offsets_buffer])"
   ]
  },
  {
   "cell_type": "code",
   "execution_count": null,
   "metadata": {
    "colab": {
     "base_uri": "https://localhost:8080/"
    },
    "id": "rjICNOiJcE6-",
    "outputId": "cae112da-74a0-4903-998d-b7c991a837b3"
   },
   "outputs": [
    {
     "data": {
      "text/plain": [
       "b'pythondataconferenceBerlin'"
      ]
     },
     "execution_count": 11,
     "metadata": {},
     "output_type": "execute_result"
    }
   ],
   "source": [
    "values_buffer = column4.buffers()[2]\n",
    "values_buffer.to_pybytes()"
   ]
  },
  {
   "cell_type": "markdown",
   "metadata": {
    "id": "4AMRlguW6Q7r"
   },
   "source": [
    "### Inspecting buffers using nanoarrow"
   ]
  },
  {
   "cell_type": "code",
   "execution_count": null,
   "metadata": {
    "id": "N9m7iKBQ6Qij"
   },
   "outputs": [],
   "source": [
    "na_column4 = na.c_array(column4)\n",
    "na_column4"
   ]
  },
  {
   "cell_type": "code",
   "execution_count": null,
   "metadata": {
    "id": "g1JOAwme6mSW"
   },
   "outputs": [],
   "source": [
    "na.c_array_view(na_column4)"
   ]
  },
  {
   "cell_type": "markdown",
   "metadata": {
    "id": "zuO9EOW666XN"
   },
   "source": [
    "Similar for binary"
   ]
  },
  {
   "cell_type": "code",
   "execution_count": null,
   "metadata": {
    "id": "JyPFwoY86825"
   },
   "outputs": [],
   "source": [
    "column4 = pa.array(['python', 'data', 'conference', None, \"Berlin\"], type=pa.binary())\n",
    "column4.buffers()"
   ]
  },
  {
   "cell_type": "code",
   "execution_count": null,
   "metadata": {
    "id": "-ynRSRtl7D8m"
   },
   "outputs": [],
   "source": [
    "na_column4 = na.c_array(column4)\n",
    "na.c_array_view(na_column4)"
   ]
  },
  {
   "cell_type": "code",
   "execution_count": null,
   "metadata": {
    "id": "WNIfwxuJ7KZe"
   },
   "outputs": [],
   "source": [
    "validity_bitmap_buffer = column4.buffers()[0]\n",
    "offsets_buffer = column4.buffers()[1]\n",
    "values_buffer = column4.buffers()[2]\n",
    "\n",
    "pa.Array.from_buffers(pa.bool_(), len(column4), [None, validity_bitmap_buffer]), pa.Array.from_buffers(pa.int32(), len(column4)+1, [None, offsets_buffer]), values_buffer.to_pybytes()"
   ]
  },
  {
   "cell_type": "markdown",
   "metadata": {
    "id": "KhQNV-ACC9ri"
   },
   "source": [
    "String vs large string"
   ]
  },
  {
   "cell_type": "code",
   "execution_count": null,
   "metadata": {
    "id": "gUgqRyDDDAtf"
   },
   "outputs": [],
   "source": [
    "column4 = pa.array(['python', 'data', 'conference', None, \"Berlin\"], type=pa.string())\n",
    "na.c_array_view(na.c_array(column4))"
   ]
  },
  {
   "cell_type": "code",
   "execution_count": null,
   "metadata": {
    "id": "vo-CjUWIDl8-"
   },
   "outputs": [],
   "source": [
    "column4 = pa.array(['python', 'data', 'conference', None, \"Berlin\"], type=pa.large_string())\n",
    "na.c_array_view(na.c_array(column4))"
   ]
  }
 ],
 "metadata": {
  "colab": {
   "provenance": []
  },
  "kernelspec": {
   "display_name": "Python (arrow-dev)",
   "language": "python",
   "name": "arrow-dev"
  },
  "language_info": {
   "codemirror_mode": {
    "name": "ipython",
    "version": 3
   },
   "file_extension": ".py",
   "mimetype": "text/x-python",
   "name": "python",
   "nbconvert_exporter": "python",
   "pygments_lexer": "ipython3",
   "version": "3.11.8"
  }
 },
 "nbformat": 4,
 "nbformat_minor": 4
}

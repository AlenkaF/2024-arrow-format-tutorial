{
 "cells": [
  {
   "cell_type": "markdown",
   "metadata": {},
   "source": [
    "# Arrow types overview"
   ]
  },
  {
   "cell_type": "markdown",
   "metadata": {},
   "source": [
    "## All types"
   ]
  },
  {
   "cell_type": "markdown",
   "metadata": {},
   "source": [
    "## Extension Types\n",
    "\n",
    "In case the system or application needs to extend standard Arrow data types with custom semantics this is enabled by defining **extension types** or **user-defined** types.\n",
    "\n",
    "For example:\n",
    "\n",
    "* Universally unique identifier (`uuid`) can be represented as a `FixedSizeBinary` type\n",
    "* Trading time can be represented as a `Timestamp` with metadata indicating the market trading calendar\n",
    "\n",
    "Extension types can be defined by annotating any of the built-in Arrow logical types (the “storage type”) with a **custom type name** and **optional serialized representation** (`'ARROW:extension:name'` and `'ARROW:extension:metadata'` keys in the `Field` metadata structure).\n",
    "\n",
    "Source: https://arrow.apache.org/docs/dev/format/Columnar.html#extension-types"
   ]
  },
  {
   "cell_type": "markdown",
   "metadata": {},
   "source": [
    "### Canonical Extension Types\n",
    "\n",
    "It is beneficial to share the definitions of well-known extension types so as to improve interoperability between different systems integrating Arrow columnar data. For this reason canonical extension types are defined in Arrow itself.\n",
    "\n",
    "Examples:\n",
    "\n",
    "* Fixed and variable shape tensor\n",
    "  - https://arrow.apache.org/docs/dev/format/CanonicalExtensions.html#fixed-shape-tensor\n",
    "  - https://arrow.apache.org/docs/dev/format/CanonicalExtensions.html#variable-shape-tensor\n",
    "\n",
    "Source: https://arrow.apache.org/docs/dev/format/CanonicalExtensions.html#"
   ]
  },
  {
   "cell_type": "markdown",
   "metadata": {},
   "source": [
    "### Community Extension Types\n",
    "\n",
    "These are Arrow extension types that have been established as standards within specific domain areas.\n",
    "\n",
    "Example:\n",
    "\n",
    "* GeoArrow : collection of Arrow extension types for representing vector geometries\n",
    "  - https://github.com/geoarrow/geoarrow\n",
    "\n",
    "  ```python\n",
    "  PointArray:PointType(geoarrow.point)[3]\n",
    "  <POINT (1 3)>\n",
    "  <POINT (2 4)>\n",
    "  <POINT (3 5)>\n",
    "  ```"
   ]
  },
  {
   "cell_type": "markdown",
   "metadata": {},
   "source": [
    "### Subclassing ExtensionType from Python\n",
    "\n",
    "Defining extension types from Python is done by subclassing pyarrow [`ExtensionType`](https://arrow.apache.org/docs/dev/python/generated/pyarrow.ExtensionType.html#pyarrow.ExtensionType) and giving the derived class its own extension name and serialization mechanism.\n",
    "\n",
    "UUID example:\n",
    "\n",
    "```python\n",
    "class UuidType(pa.ExtensionType):\n",
    "\n",
    "    def __init__(self):\n",
    "        super().__init__(pa.binary(16), \"my_package.uuid\")\n",
    "\n",
    "    def __arrow_ext_serialize__(self):\n",
    "        return b''\n",
    "\n",
    "    @classmethod\n",
    "    def __arrow_ext_deserialize__(cls, storage_type, serialized):\n",
    "        assert storage_type == pa.binary(16)\n",
    "        assert serialized == b''\n",
    "        return UuidType()\n",
    "```"
   ]
  },
  {
   "cell_type": "markdown",
   "metadata": {},
   "source": [
    "# Overview of Arrow terminology\n",
    "\n",
    "### Array\n",
    "\n",
    "A contiguous, one-dimensional sequence of values with known length where all values have the same type. \n",
    "\n",
    "### Chunked Array\n",
    "\n",
    "A discontiguous, one-dimensional sequence of values with known length where all values have the same type. Consists of zero or more arrays, the “chunks”.\n",
    "\n",
    "### RecordBatch\n",
    "\n",
    "A contiguous, two-dimensional data structure which consist of ordered collection of arrays of the same length.\n",
    "\n",
    "### Schema\n",
    "\n",
    "A collection of fields with optional metadata that determines all the data types of an object like a record batch or table.\n",
    "\n",
    "### Table\n",
    "\n",
    "A discontiguous, two-dimensional chunk of data consisting of an ordered collection of chunked arrays. All chunked arrays have the same length, but may have different types. Different columns may be chunked differently.\n",
    "\n",
    "![image info](./diagrams/tables-versus-record-batches.svg)\n",
    "\n",
    "https://arrow.apache.org/docs/dev/format/Glossary.html"
   ]
  },
  {
   "cell_type": "markdown",
   "metadata": {},
   "source": []
  }
 ],
 "metadata": {
  "language_info": {
   "name": "python"
  }
 },
 "nbformat": 4,
 "nbformat_minor": 2
}
